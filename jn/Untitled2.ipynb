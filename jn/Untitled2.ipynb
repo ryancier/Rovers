{
 "cells": [
  {
   "cell_type": "code",
   "execution_count": null,
   "metadata": {},
   "outputs": [],
   "source": [
    "from xml.etree import ElementTree\n",
    "from pprint import pprint\n",
    "import os\n",
    "\n",
    "def main():\n",
    "    print \"Calling PDFDUMP.py\"\n",
    "    os.system(\"dumppdf.py -a FILE.pdf > out.xml\")\n",
    "\n",
    "    # Preprocess the file to eliminate bad XML.\n",
    "    print \"Screening the file\"\n",
    "    o = open(\"output.xml\",\"w\") #open for append\n",
    "    for line in open(\"out.xml\"):\n",
    "       line = line.replace(\"&#\", \"Invalid_XML\") #some bad data in xml for formatting info.\n",
    "       o.write(line) \n",
    "    o.close()\n",
    "\n",
    "    print \"Opening XML output\"\n",
    "    tree = ElementTree.parse('output.xml')\n",
    "    lastnode = \"\"\n",
    "    lastnode2 = \"\"\n",
    "    list = {}\n",
    "    entry = {}\n",
    "\n",
    "    for node in tree.iter(): # Run through the tree..        \n",
    "        # Check if New node\n",
    "        if node.tag == \"key\" and node.text == \"T\":\n",
    "            lastnode = node.tag + node.text\n",
    "        elif lastnode == \"keyT\":\n",
    "            for child in node.iter():\n",
    "                entry[\"ID\"] = child.text\n",
    "            lastnode = \"\"\n",
    "\n",
    "        if node.tag == \"key\" and node.text == \"V\":\n",
    "            lastnode2 = node.tag + node.text\n",
    "        elif lastnode2 == \"keyV\":\n",
    "            for child in node.iter():\n",
    "                if child.tag == \"string\":\n",
    "                    if entry.has_key(\"ID\"):\n",
    "                        entry[\"Value\"] = child.text\n",
    "                        list[entry[\"ID\"]] = entry[\"Value\"]\n",
    "                        entry = {}\n",
    "            lastnode2 = \"\"\n",
    "\n",
    "    pprint(list)"
   ]
  }
 ],
 "metadata": {
  "kernelspec": {
   "display_name": "Python 3",
   "language": "python",
   "name": "python3"
  },
  "language_info": {
   "codemirror_mode": {
    "name": "ipython",
    "version": 3
   },
   "file_extension": ".py",
   "mimetype": "text/x-python",
   "name": "python",
   "nbconvert_exporter": "python",
   "pygments_lexer": "ipython3",
   "version": "3.7.3"
  }
 },
 "nbformat": 4,
 "nbformat_minor": 2
}
