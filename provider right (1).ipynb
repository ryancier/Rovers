{
 "cells": [
  {
   "cell_type": "code",
   "execution_count": 1,
   "metadata": {
    "scrolled": false
   },
   "outputs": [
    {
     "ename": "NameError",
     "evalue": "name 'attach' is not defined",
     "output_type": "error",
     "traceback": [
      "\u001b[1;31m---------------------------------------------------------------------------\u001b[0m",
      "\u001b[1;31mNameError\u001b[0m                                 Traceback (most recent call last)",
      "\u001b[1;32m<ipython-input-1-89bcf2331397>\u001b[0m in \u001b[0;36m<module>\u001b[1;34m\u001b[0m\n\u001b[0;32m     65\u001b[0m \u001b[1;33m\u001b[0m\u001b[0m\n\u001b[0;32m     66\u001b[0m \u001b[1;32mif\u001b[0m \u001b[0m__name__\u001b[0m \u001b[1;33m==\u001b[0m \u001b[1;34m\"__main__\"\u001b[0m\u001b[1;33m:\u001b[0m\u001b[1;33m\u001b[0m\u001b[1;33m\u001b[0m\u001b[0m\n\u001b[1;32m---> 67\u001b[1;33m     \u001b[0mMain\u001b[0m\u001b[1;33m(\u001b[0m\u001b[1;33m)\u001b[0m\u001b[1;33m\u001b[0m\u001b[1;33m\u001b[0m\u001b[0m\n\u001b[0m",
      "\u001b[1;32m<ipython-input-1-89bcf2331397>\u001b[0m in \u001b[0;36mMain\u001b[1;34m()\u001b[0m\n\u001b[0;32m     52\u001b[0m         \u001b[1;31m#print msg.Subject\u001b[0m\u001b[1;33m\u001b[0m\u001b[1;33m\u001b[0m\u001b[1;33m\u001b[0m\u001b[0m\n\u001b[0;32m     53\u001b[0m         \u001b[1;32mif\u001b[0m \u001b[1;32mnot\u001b[0m \u001b[0mlen\u001b[0m\u001b[1;33m(\u001b[0m\u001b[0mmsg\u001b[0m\u001b[1;33m.\u001b[0m\u001b[0mAttachments\u001b[0m\u001b[1;33m)\u001b[0m \u001b[1;32mis\u001b[0m \u001b[1;36m0\u001b[0m\u001b[1;33m:\u001b[0m\u001b[1;33m\u001b[0m\u001b[1;33m\u001b[0m\u001b[0m\n\u001b[1;32m---> 54\u001b[1;33m             \u001b[0mattach\u001b[0m\u001b[1;33m.\u001b[0m\u001b[0mappend\u001b[0m\u001b[1;33m(\u001b[0m\u001b[1;33m(\u001b[0m\u001b[0mmsg\u001b[0m\u001b[1;33m.\u001b[0m\u001b[0mAttachments\u001b[0m\u001b[1;33m,\u001b[0m \u001b[0mmsg\u001b[0m\u001b[1;33m.\u001b[0m\u001b[0mSubject\u001b[0m\u001b[1;33m)\u001b[0m\u001b[1;33m)\u001b[0m\u001b[1;33m\u001b[0m\u001b[1;33m\u001b[0m\u001b[0m\n\u001b[0m\u001b[0;32m     55\u001b[0m         \u001b[0mmsg\u001b[0m \u001b[1;33m=\u001b[0m \u001b[0mmessages\u001b[0m\u001b[1;33m.\u001b[0m\u001b[0mGetNext\u001b[0m\u001b[1;33m(\u001b[0m\u001b[1;33m)\u001b[0m\u001b[1;33m\u001b[0m\u001b[1;33m\u001b[0m\u001b[0m\n\u001b[0;32m     56\u001b[0m \u001b[1;33m\u001b[0m\u001b[0m\n",
      "\u001b[1;31mNameError\u001b[0m: name 'attach' is not defined"
     ]
    }
   ],
   "source": [
    "import win32com.client\n",
    "import os, sys\n",
    "\n",
    "class OutlookLib:\n",
    "\n",
    "    def __init__(self, settings={}):\n",
    "        self.settings = settings\n",
    "\n",
    "    # Gets all messages in outlook   \n",
    "    def get_messages(self):      \n",
    "        outlook = win32com.client.Dispatch(\"Outlook.Application\")\n",
    "\n",
    "        # This allows us to access the \"folder\" hierarchy accessible within\n",
    "        # Outlook. You can see this hierarchy yourself by opening Outlook\n",
    "        # manually and bringing up the folder menu\n",
    "        # (which typically says \"Inbox\" or \"Outlook Today\" or something).\n",
    "        ns = outlook.GetNamespace(\"MAPI\")\n",
    "\n",
    "        all_inbox = ns.GetDefaultFolder(6).Items\n",
    "        return all_inbox\n",
    "\n",
    "    def get_body(self, msg):\n",
    "        return msg.Body\n",
    "\n",
    "    def get_subject(self, msg):\n",
    "        return msg.Subject\n",
    "\n",
    "    def get_sender(self, msg):\n",
    "        return msg.SenderName\n",
    "\n",
    "    def get_recipient(self, msg):\n",
    "        return msg.To\n",
    "\n",
    "    def get_attachments(self, msg):\n",
    "        return msg.Attachments\n",
    "\n",
    "# Gets an attachment\n",
    "# Return true if clean\n",
    "# Otherwise, return false\n",
    "def checkAttach(fileAtt):\n",
    "    pass # TODO something here\n",
    "\n",
    "def Main():\n",
    "    global attach\n",
    "\n",
    "    outlook = OutlookLib()\n",
    "    messages = outlook.get_messages()\n",
    "\n",
    "    # Loop all messages\n",
    "    msg = messages.GetFirst()\n",
    "    while msg:\n",
    "        #print msg.Subject\n",
    "        if not len(msg.Attachments) is 0:\n",
    "            attach.append((msg.Attachments, msg.Subject))\n",
    "        msg = messages.GetNext()\n",
    "\n",
    "    for attachTuple in attach:\n",
    "        print(\"Checking attachments under \" + attachTuple[1])\n",
    "        for fileAtt in attachTuple[0]:\n",
    "            fileAtt.SaveAsFile(r\"C:\\Users\\Luigi Murialdo\\Downloads\\provider/\" + fileAtt.FileName)\n",
    "            if checkAttach(fileAtt):\n",
    "                print(fileAtt.FileName + \" was found as malicous.\")\n",
    "\n",
    "                \n",
    "\n",
    "if __name__ == \"__main__\":\n",
    "    Main()"
   ]
  },
  {
   "cell_type": "code",
   "execution_count": 18,
   "metadata": {},
   "outputs": [
    {
     "data": {
      "text/plain": [
       "'C:\\\\Users\\\\Luigi Murialdo\\\\Downloads'"
      ]
     },
     "execution_count": 18,
     "metadata": {},
     "output_type": "execute_result"
    }
   ],
   "source": [
    "os.getcwd()"
   ]
  },
  {
   "cell_type": "code",
   "execution_count": null,
   "metadata": {},
   "outputs": [],
   "source": []
  }
 ],
 "metadata": {
  "kernelspec": {
   "display_name": "Python 3",
   "language": "python",
   "name": "python3"
  },
  "language_info": {
   "codemirror_mode": {
    "name": "ipython",
    "version": 3
   },
   "file_extension": ".py",
   "mimetype": "text/x-python",
   "name": "python",
   "nbconvert_exporter": "python",
   "pygments_lexer": "ipython3",
   "version": "3.7.3"
  }
 },
 "nbformat": 4,
 "nbformat_minor": 2
}
