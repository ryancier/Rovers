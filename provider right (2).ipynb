{
 "cells": [
  {
   "cell_type": "code",
   "execution_count": null,
   "metadata": {
    "scrolled": false
   },
   "outputs": [],
   "source": [
    "import win32com.client\n",
    "import os, sys\n",
    "\n",
    "class OutlookLib:\n",
    "\n",
    "    def __init__(self, settings={}):\n",
    "        self.settings = settings\n",
    "\n",
    "    # Gets all messages in outlook   \n",
    "    def get_messages(self):      \n",
    "        outlook = win32com.client.Dispatch(\"Outlook.Application\")\n",
    "\n",
    "        # This allows us to access the \"folder\" hierarchy accessible within\n",
    "        # Outlook. You can see this hierarchy yourself by opening Outlook\n",
    "        # manually and bringing up the folder menu\n",
    "        # (which typically says \"Inbox\" or \"Outlook Today\" or something).\n",
    "        ns = outlook.GetNamespace(\"MAPI\")\n",
    "\n",
    "        all_inbox = ns.GetDefaultFolder(6).Items\n",
    "        return all_inbox\n",
    "\n",
    "    def get_body(self, msg):\n",
    "        return msg.Body\n",
    "\n",
    "    def get_subject(self, msg):\n",
    "        return msg.Subject\n",
    "\n",
    "    def get_sender(self, msg):\n",
    "        return msg.SenderName\n",
    "\n",
    "    def get_recipient(self, msg):\n",
    "        return msg.To\n",
    "\n",
    "    def get_attachments(self, msg):\n",
    "        return msg.Attachments\n",
    "\n",
    "# Gets an attachment\n",
    "# Return true if clean\n",
    "# Otherwise, return false\n",
    "def checkAttach(fileAtt):\n",
    "    pass # TODO something here\n",
    "\n",
    "def Main():\n",
    "    global attach\n",
    "\n",
    "    outlook = OutlookLib()\n",
    "    messages = outlook.get_messages()\n",
    "\n",
    "    # Loop all messages\n",
    "    msg = messages.GetFirst()\n",
    "    while msg:\n",
    "        #print msg.Subject\n",
    "        if not len(msg.Attachments) is 0:\n",
    "            attach.append((msg.Attachments, msg.Subject))\n",
    "            msg = messages.GetNext()\n",
    "\n",
    "    for attachTuple in attach:\n",
    "        print(\"Checking attachments under \" + attachTuple[1])\n",
    "        for fileAtt in attachTuple[0]:\n",
    "            fileAtt.SaveAsFile(r\"C:\\Users\\Luigi Murialdo\\Downloads\\provider/\" + fileAtt.FileName)\n",
    "            if checkAttach(fileAtt):\n",
    "                print(fileAtt.FileName + \" was found as malicous.\")\n",
    "\n",
    "attach = []\n",
    "               \n",
    "\n",
    "if __name__ == \"__main__\":\n",
    "    Main()"
   ]
  },
  {
   "cell_type": "code",
   "execution_count": 18,
   "metadata": {},
   "outputs": [
    {
     "data": {
      "text/plain": [
       "'C:\\\\Users\\\\Luigi Murialdo\\\\Downloads'"
      ]
     },
     "execution_count": 18,
     "metadata": {},
     "output_type": "execute_result"
    }
   ],
   "source": [
    "os.getcwd()"
   ]
  },
  {
   "cell_type": "code",
   "execution_count": null,
   "metadata": {},
   "outputs": [],
   "source": []
  }
 ],
 "metadata": {
  "kernelspec": {
   "display_name": "Python 3",
   "language": "python",
   "name": "python3"
  },
  "language_info": {
   "codemirror_mode": {
    "name": "ipython",
    "version": 3
   },
   "file_extension": ".py",
   "mimetype": "text/x-python",
   "name": "python",
   "nbconvert_exporter": "python",
   "pygments_lexer": "ipython3",
   "version": "3.7.3"
  }
 },
 "nbformat": 4,
 "nbformat_minor": 2
}
